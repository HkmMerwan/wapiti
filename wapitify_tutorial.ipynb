{
 "cells": [
  {
   "cell_type": "markdown",
   "id": "4ce9a22e",
   "metadata": {},
   "source": [
    "# Wapitify\n",
    "\n",
    "This notebook serves to emphasize the utilization of the wapitify function, and we presume that the user has already reviewed the step-by-step wapiti tutorial."
   ]
  },
  {
   "cell_type": "code",
   "execution_count": 7,
   "id": "3f31eea2",
   "metadata": {},
   "outputs": [],
   "source": [
    "from wapiti import wapitify, wapiti_tools\n",
    "\n",
    "seaborn.set_context(\"notebook\")\n",
    "plt.rcParams[\"axes.grid\"] = False\n",
    "cwd = os.getcwd()  # current working directory"
   ]
  },
  {
   "cell_type": "markdown",
   "id": "7f04d069",
   "metadata": {},
   "source": [
    "# Data preprocessing:\n",
    "\n",
    "## /!\\ \n",
    "\n",
    "\n",
    "It is assumed that the user possesses LBL per-line radial velocity (RV) timeseries, $\\texttt{times_lbl}$, $\\texttt{rvs_all}$, and $\\texttt{drvs_all}$ as well as drift RVs. \n",
    "\n",
    "## /!\\ \n",
    "\n",
    "Lines with less than 50% of spectra with a valid velocity are removed, and the data are subsequently binned by night."
   ]
  },
  {
   "cell_type": "code",
   "execution_count": 5,
   "id": "aebe895c",
   "metadata": {},
   "outputs": [],
   "source": [
    "g = np.mean(np.isfinite(rvs_all),axis=0)\n",
    "valid = g >= 0.5\n",
    "rvs_all, drvs_all = rvs_all[:, valid], drvs_all[:, valid]"
   ]
  },
  {
   "cell_type": "code",
   "execution_count": 8,
   "id": "15eae893",
   "metadata": {},
   "outputs": [
    {
     "data": {
      "application/vnd.jupyter.widget-view+json": {
       "model_id": "",
       "version_major": 2,
       "version_minor": 0
      },
      "text/plain": [
       "  0%|          | 0/18047 [00:00<?, ?it/s]"
      ]
     },
     "metadata": {},
     "output_type": "display_data"
    }
   ],
   "source": [
    "rvs_binned = []\n",
    "drvs_binned = []\n",
    "\n",
    "for idx in tqdm(range(rvs_all.shape[1]), leave=False):\n",
    "\n",
    "    time_binned, rv, drv = wapiti_tools.night_bin(times_lbl, rvs_all[:, idx]-rv_drift, np.sqrt(drvs_all[:, idx]**2+drv_drift**2))\n",
    "    rvs_binned.append(rv)\n",
    "    drvs_binned.append(drv)\n",
    "\n",
    "rvs_binned = np.array(rvs_binned).T\n",
    "drvs_binned = np.array(drvs_binned).T"
   ]
  },
  {
   "cell_type": "markdown",
   "id": "9bcd66cc",
   "metadata": {},
   "source": [
    "It is feasible to apply the $\\texttt{Wapiti}$ method directly by using the $\\texttt{wapitify}$ function.\n",
    "\n",
    "The function will return a dictionnary that encompasses all the products derived from the method."
   ]
  },
  {
   "cell_type": "code",
   "execution_count": 9,
   "id": "ab0cbd1f",
   "metadata": {},
   "outputs": [
    {
     "data": {
      "application/vnd.jupyter.widget-view+json": {
       "model_id": "",
       "version_major": 2,
       "version_minor": 0
      },
      "text/plain": [
       "  0%|          | 0/100 [00:00<?, ?it/s]"
      ]
     },
     "metadata": {},
     "output_type": "display_data"
    },
    {
     "data": {
      "application/vnd.jupyter.widget-view+json": {
       "model_id": "",
       "version_major": 2,
       "version_minor": 0
      },
      "text/plain": [
       "  0%|          | 0/100 [00:00<?, ?it/s]"
      ]
     },
     "metadata": {},
     "output_type": "display_data"
    },
    {
     "data": {
      "application/vnd.jupyter.widget-view+json": {
       "model_id": "",
       "version_major": 2,
       "version_minor": 0
      },
      "text/plain": [
       "  0%|          | 0/176 [00:00<?, ?it/s]"
      ]
     },
     "metadata": {},
     "output_type": "display_data"
    },
    {
     "data": {
      "application/vnd.jupyter.widget-view+json": {
       "model_id": "",
       "version_major": 2,
       "version_minor": 0
      },
      "text/plain": [
       "  0%|          | 0/175 [00:00<?, ?it/s]"
      ]
     },
     "metadata": {},
     "output_type": "display_data"
    },
    {
     "data": {
      "application/vnd.jupyter.widget-view+json": {
       "model_id": "",
       "version_major": 2,
       "version_minor": 0
      },
      "text/plain": [
       "  0%|          | 0/174 [00:00<?, ?it/s]"
      ]
     },
     "metadata": {},
     "output_type": "display_data"
    },
    {
     "data": {
      "application/vnd.jupyter.widget-view+json": {
       "model_id": "",
       "version_major": 2,
       "version_minor": 0
      },
      "text/plain": [
       "  0%|          | 0/173 [00:00<?, ?it/s]"
      ]
     },
     "metadata": {},
     "output_type": "display_data"
    },
    {
     "data": {
      "application/vnd.jupyter.widget-view+json": {
       "model_id": "",
       "version_major": 2,
       "version_minor": 0
      },
      "text/plain": [
       "  0%|          | 0/172 [00:00<?, ?it/s]"
      ]
     },
     "metadata": {},
     "output_type": "display_data"
    },
    {
     "data": {
      "application/vnd.jupyter.widget-view+json": {
       "model_id": "",
       "version_major": 2,
       "version_minor": 0
      },
      "text/plain": [
       "  0%|          | 0/171 [00:00<?, ?it/s]"
      ]
     },
     "metadata": {},
     "output_type": "display_data"
    },
    {
     "data": {
      "application/vnd.jupyter.widget-view+json": {
       "model_id": "",
       "version_major": 2,
       "version_minor": 0
      },
      "text/plain": [
       "  0%|          | 0/170 [00:00<?, ?it/s]"
      ]
     },
     "metadata": {},
     "output_type": "display_data"
    },
    {
     "data": {
      "application/vnd.jupyter.widget-view+json": {
       "model_id": "",
       "version_major": 2,
       "version_minor": 0
      },
      "text/plain": [
       "  0%|          | 0/169 [00:00<?, ?it/s]"
      ]
     },
     "metadata": {},
     "output_type": "display_data"
    },
    {
     "data": {
      "application/vnd.jupyter.widget-view+json": {
       "model_id": "",
       "version_major": 2,
       "version_minor": 0
      },
      "text/plain": [
       "  0%|          | 0/168 [00:00<?, ?it/s]"
      ]
     },
     "metadata": {},
     "output_type": "display_data"
    },
    {
     "data": {
      "application/vnd.jupyter.widget-view+json": {
       "model_id": "",
       "version_major": 2,
       "version_minor": 0
      },
      "text/plain": [
       "  0%|          | 0/167 [00:00<?, ?it/s]"
      ]
     },
     "metadata": {},
     "output_type": "display_data"
    },
    {
     "data": {
      "application/vnd.jupyter.widget-view+json": {
       "model_id": "",
       "version_major": 2,
       "version_minor": 0
      },
      "text/plain": [
       "  0%|          | 0/166 [00:00<?, ?it/s]"
      ]
     },
     "metadata": {},
     "output_type": "display_data"
    },
    {
     "data": {
      "application/vnd.jupyter.widget-view+json": {
       "model_id": "",
       "version_major": 2,
       "version_minor": 0
      },
      "text/plain": [
       "  0%|          | 0/165 [00:00<?, ?it/s]"
      ]
     },
     "metadata": {},
     "output_type": "display_data"
    },
    {
     "data": {
      "application/vnd.jupyter.widget-view+json": {
       "model_id": "",
       "version_major": 2,
       "version_minor": 0
      },
      "text/plain": [
       "  0%|          | 0/164 [00:00<?, ?it/s]"
      ]
     },
     "metadata": {},
     "output_type": "display_data"
    },
    {
     "data": {
      "application/vnd.jupyter.widget-view+json": {
       "model_id": "",
       "version_major": 2,
       "version_minor": 0
      },
      "text/plain": [
       "  0%|          | 0/163 [00:00<?, ?it/s]"
      ]
     },
     "metadata": {},
     "output_type": "display_data"
    },
    {
     "data": {
      "application/vnd.jupyter.widget-view+json": {
       "model_id": "",
       "version_major": 2,
       "version_minor": 0
      },
      "text/plain": [
       "  0%|          | 0/162 [00:00<?, ?it/s]"
      ]
     },
     "metadata": {},
     "output_type": "display_data"
    },
    {
     "data": {
      "application/vnd.jupyter.widget-view+json": {
       "model_id": "",
       "version_major": 2,
       "version_minor": 0
      },
      "text/plain": [
       "  0%|          | 0/161 [00:00<?, ?it/s]"
      ]
     },
     "metadata": {},
     "output_type": "display_data"
    },
    {
     "data": {
      "application/vnd.jupyter.widget-view+json": {
       "model_id": "",
       "version_major": 2,
       "version_minor": 0
      },
      "text/plain": [
       "  0%|          | 0/160 [00:00<?, ?it/s]"
      ]
     },
     "metadata": {},
     "output_type": "display_data"
    },
    {
     "data": {
      "application/vnd.jupyter.widget-view+json": {
       "model_id": "",
       "version_major": 2,
       "version_minor": 0
      },
      "text/plain": [
       "  0%|          | 0/159 [00:00<?, ?it/s]"
      ]
     },
     "metadata": {},
     "output_type": "display_data"
    },
    {
     "data": {
      "application/vnd.jupyter.widget-view+json": {
       "model_id": "",
       "version_major": 2,
       "version_minor": 0
      },
      "text/plain": [
       "  0%|          | 0/158 [00:00<?, ?it/s]"
      ]
     },
     "metadata": {},
     "output_type": "display_data"
    },
    {
     "data": {
      "application/vnd.jupyter.widget-view+json": {
       "model_id": "",
       "version_major": 2,
       "version_minor": 0
      },
      "text/plain": [
       "  0%|          | 0/157 [00:00<?, ?it/s]"
      ]
     },
     "metadata": {},
     "output_type": "display_data"
    },
    {
     "data": {
      "application/vnd.jupyter.widget-view+json": {
       "model_id": "",
       "version_major": 2,
       "version_minor": 0
      },
      "text/plain": [
       "  0%|          | 0/156 [00:00<?, ?it/s]"
      ]
     },
     "metadata": {},
     "output_type": "display_data"
    },
    {
     "data": {
      "application/vnd.jupyter.widget-view+json": {
       "model_id": "",
       "version_major": 2,
       "version_minor": 0
      },
      "text/plain": [
       "  0%|          | 0/155 [00:00<?, ?it/s]"
      ]
     },
     "metadata": {},
     "output_type": "display_data"
    },
    {
     "data": {
      "application/vnd.jupyter.widget-view+json": {
       "model_id": "",
       "version_major": 2,
       "version_minor": 0
      },
      "text/plain": [
       "  0%|          | 0/154 [00:00<?, ?it/s]"
      ]
     },
     "metadata": {},
     "output_type": "display_data"
    },
    {
     "data": {
      "application/vnd.jupyter.widget-view+json": {
       "model_id": "",
       "version_major": 2,
       "version_minor": 0
      },
      "text/plain": [
       "  0%|          | 0/153 [00:00<?, ?it/s]"
      ]
     },
     "metadata": {},
     "output_type": "display_data"
    },
    {
     "data": {
      "application/vnd.jupyter.widget-view+json": {
       "model_id": "",
       "version_major": 2,
       "version_minor": 0
      },
      "text/plain": [
       "  0%|          | 0/152 [00:00<?, ?it/s]"
      ]
     },
     "metadata": {},
     "output_type": "display_data"
    },
    {
     "data": {
      "application/vnd.jupyter.widget-view+json": {
       "model_id": "",
       "version_major": 2,
       "version_minor": 0
      },
      "text/plain": [
       "  0%|          | 0/151 [00:00<?, ?it/s]"
      ]
     },
     "metadata": {},
     "output_type": "display_data"
    },
    {
     "data": {
      "application/vnd.jupyter.widget-view+json": {
       "model_id": "",
       "version_major": 2,
       "version_minor": 0
      },
      "text/plain": [
       "  0%|          | 0/150 [00:00<?, ?it/s]"
      ]
     },
     "metadata": {},
     "output_type": "display_data"
    },
    {
     "data": {
      "application/vnd.jupyter.widget-view+json": {
       "model_id": "",
       "version_major": 2,
       "version_minor": 0
      },
      "text/plain": [
       "  0%|          | 0/149 [00:00<?, ?it/s]"
      ]
     },
     "metadata": {},
     "output_type": "display_data"
    },
    {
     "data": {
      "application/vnd.jupyter.widget-view+json": {
       "model_id": "",
       "version_major": 2,
       "version_minor": 0
      },
      "text/plain": [
       "  0%|          | 0/148 [00:00<?, ?it/s]"
      ]
     },
     "metadata": {},
     "output_type": "display_data"
    },
    {
     "data": {
      "application/vnd.jupyter.widget-view+json": {
       "model_id": "",
       "version_major": 2,
       "version_minor": 0
      },
      "text/plain": [
       "  0%|          | 0/147 [00:00<?, ?it/s]"
      ]
     },
     "metadata": {},
     "output_type": "display_data"
    },
    {
     "data": {
      "application/vnd.jupyter.widget-view+json": {
       "model_id": "",
       "version_major": 2,
       "version_minor": 0
      },
      "text/plain": [
       "  0%|          | 0/146 [00:00<?, ?it/s]"
      ]
     },
     "metadata": {},
     "output_type": "display_data"
    },
    {
     "data": {
      "application/vnd.jupyter.widget-view+json": {
       "model_id": "",
       "version_major": 2,
       "version_minor": 0
      },
      "text/plain": [
       "  0%|          | 0/145 [00:00<?, ?it/s]"
      ]
     },
     "metadata": {},
     "output_type": "display_data"
    },
    {
     "data": {
      "application/vnd.jupyter.widget-view+json": {
       "model_id": "",
       "version_major": 2,
       "version_minor": 0
      },
      "text/plain": [
       "  0%|          | 0/144 [00:00<?, ?it/s]"
      ]
     },
     "metadata": {},
     "output_type": "display_data"
    },
    {
     "data": {
      "application/vnd.jupyter.widget-view+json": {
       "model_id": "",
       "version_major": 2,
       "version_minor": 0
      },
      "text/plain": [
       "  0%|          | 0/143 [00:00<?, ?it/s]"
      ]
     },
     "metadata": {},
     "output_type": "display_data"
    },
    {
     "data": {
      "application/vnd.jupyter.widget-view+json": {
       "model_id": "",
       "version_major": 2,
       "version_minor": 0
      },
      "text/plain": [
       "  0%|          | 0/142 [00:00<?, ?it/s]"
      ]
     },
     "metadata": {},
     "output_type": "display_data"
    },
    {
     "data": {
      "application/vnd.jupyter.widget-view+json": {
       "model_id": "",
       "version_major": 2,
       "version_minor": 0
      },
      "text/plain": [
       "  0%|          | 0/141 [00:00<?, ?it/s]"
      ]
     },
     "metadata": {},
     "output_type": "display_data"
    },
    {
     "data": {
      "application/vnd.jupyter.widget-view+json": {
       "model_id": "",
       "version_major": 2,
       "version_minor": 0
      },
      "text/plain": [
       "  0%|          | 0/140 [00:00<?, ?it/s]"
      ]
     },
     "metadata": {},
     "output_type": "display_data"
    },
    {
     "data": {
      "application/vnd.jupyter.widget-view+json": {
       "model_id": "",
       "version_major": 2,
       "version_minor": 0
      },
      "text/plain": [
       "  0%|          | 0/139 [00:00<?, ?it/s]"
      ]
     },
     "metadata": {},
     "output_type": "display_data"
    },
    {
     "data": {
      "application/vnd.jupyter.widget-view+json": {
       "model_id": "",
       "version_major": 2,
       "version_minor": 0
      },
      "text/plain": [
       "  0%|          | 0/138 [00:00<?, ?it/s]"
      ]
     },
     "metadata": {},
     "output_type": "display_data"
    },
    {
     "data": {
      "application/vnd.jupyter.widget-view+json": {
       "model_id": "",
       "version_major": 2,
       "version_minor": 0
      },
      "text/plain": [
       "  0%|          | 0/137 [00:00<?, ?it/s]"
      ]
     },
     "metadata": {},
     "output_type": "display_data"
    },
    {
     "data": {
      "application/vnd.jupyter.widget-view+json": {
       "model_id": "",
       "version_major": 2,
       "version_minor": 0
      },
      "text/plain": [
       "  0%|          | 0/136 [00:00<?, ?it/s]"
      ]
     },
     "metadata": {},
     "output_type": "display_data"
    },
    {
     "data": {
      "application/vnd.jupyter.widget-view+json": {
       "model_id": "",
       "version_major": 2,
       "version_minor": 0
      },
      "text/plain": [
       "  0%|          | 0/135 [00:00<?, ?it/s]"
      ]
     },
     "metadata": {},
     "output_type": "display_data"
    },
    {
     "data": {
      "application/vnd.jupyter.widget-view+json": {
       "model_id": "",
       "version_major": 2,
       "version_minor": 0
      },
      "text/plain": [
       "  0%|          | 0/134 [00:00<?, ?it/s]"
      ]
     },
     "metadata": {},
     "output_type": "display_data"
    },
    {
     "data": {
      "application/vnd.jupyter.widget-view+json": {
       "model_id": "",
       "version_major": 2,
       "version_minor": 0
      },
      "text/plain": [
       "  0%|          | 0/133 [00:00<?, ?it/s]"
      ]
     },
     "metadata": {},
     "output_type": "display_data"
    },
    {
     "data": {
      "application/vnd.jupyter.widget-view+json": {
       "model_id": "",
       "version_major": 2,
       "version_minor": 0
      },
      "text/plain": [
       "  0%|          | 0/132 [00:00<?, ?it/s]"
      ]
     },
     "metadata": {},
     "output_type": "display_data"
    },
    {
     "data": {
      "application/vnd.jupyter.widget-view+json": {
       "model_id": "",
       "version_major": 2,
       "version_minor": 0
      },
      "text/plain": [
       "  0%|          | 0/131 [00:00<?, ?it/s]"
      ]
     },
     "metadata": {},
     "output_type": "display_data"
    },
    {
     "data": {
      "application/vnd.jupyter.widget-view+json": {
       "model_id": "",
       "version_major": 2,
       "version_minor": 0
      },
      "text/plain": [
       "  0%|          | 0/130 [00:00<?, ?it/s]"
      ]
     },
     "metadata": {},
     "output_type": "display_data"
    },
    {
     "data": {
      "application/vnd.jupyter.widget-view+json": {
       "model_id": "",
       "version_major": 2,
       "version_minor": 0
      },
      "text/plain": [
       "  0%|          | 0/129 [00:00<?, ?it/s]"
      ]
     },
     "metadata": {},
     "output_type": "display_data"
    },
    {
     "data": {
      "application/vnd.jupyter.widget-view+json": {
       "model_id": "",
       "version_major": 2,
       "version_minor": 0
      },
      "text/plain": [
       "  0%|          | 0/128 [00:00<?, ?it/s]"
      ]
     },
     "metadata": {},
     "output_type": "display_data"
    },
    {
     "data": {
      "application/vnd.jupyter.widget-view+json": {
       "model_id": "",
       "version_major": 2,
       "version_minor": 0
      },
      "text/plain": [
       "  0%|          | 0/127 [00:00<?, ?it/s]"
      ]
     },
     "metadata": {},
     "output_type": "display_data"
    },
    {
     "data": {
      "application/vnd.jupyter.widget-view+json": {
       "model_id": "",
       "version_major": 2,
       "version_minor": 0
      },
      "text/plain": [
       "  0%|          | 0/126 [00:00<?, ?it/s]"
      ]
     },
     "metadata": {},
     "output_type": "display_data"
    },
    {
     "data": {
      "application/vnd.jupyter.widget-view+json": {
       "model_id": "",
       "version_major": 2,
       "version_minor": 0
      },
      "text/plain": [
       "  0%|          | 0/125 [00:00<?, ?it/s]"
      ]
     },
     "metadata": {},
     "output_type": "display_data"
    },
    {
     "data": {
      "application/vnd.jupyter.widget-view+json": {
       "model_id": "",
       "version_major": 2,
       "version_minor": 0
      },
      "text/plain": [
       "  0%|          | 0/124 [00:00<?, ?it/s]"
      ]
     },
     "metadata": {},
     "output_type": "display_data"
    },
    {
     "data": {
      "application/vnd.jupyter.widget-view+json": {
       "model_id": "",
       "version_major": 2,
       "version_minor": 0
      },
      "text/plain": [
       "  0%|          | 0/123 [00:00<?, ?it/s]"
      ]
     },
     "metadata": {},
     "output_type": "display_data"
    },
    {
     "data": {
      "application/vnd.jupyter.widget-view+json": {
       "model_id": "",
       "version_major": 2,
       "version_minor": 0
      },
      "text/plain": [
       "  0%|          | 0/122 [00:00<?, ?it/s]"
      ]
     },
     "metadata": {},
     "output_type": "display_data"
    },
    {
     "data": {
      "application/vnd.jupyter.widget-view+json": {
       "model_id": "",
       "version_major": 2,
       "version_minor": 0
      },
      "text/plain": [
       "  0%|          | 0/121 [00:00<?, ?it/s]"
      ]
     },
     "metadata": {},
     "output_type": "display_data"
    },
    {
     "data": {
      "application/vnd.jupyter.widget-view+json": {
       "model_id": "",
       "version_major": 2,
       "version_minor": 0
      },
      "text/plain": [
       "  0%|          | 0/120 [00:00<?, ?it/s]"
      ]
     },
     "metadata": {},
     "output_type": "display_data"
    },
    {
     "data": {
      "application/vnd.jupyter.widget-view+json": {
       "model_id": "",
       "version_major": 2,
       "version_minor": 0
      },
      "text/plain": [
       "  0%|          | 0/119 [00:00<?, ?it/s]"
      ]
     },
     "metadata": {},
     "output_type": "display_data"
    },
    {
     "data": {
      "application/vnd.jupyter.widget-view+json": {
       "model_id": "",
       "version_major": 2,
       "version_minor": 0
      },
      "text/plain": [
       "  0%|          | 0/118 [00:00<?, ?it/s]"
      ]
     },
     "metadata": {},
     "output_type": "display_data"
    },
    {
     "data": {
      "application/vnd.jupyter.widget-view+json": {
       "model_id": "",
       "version_major": 2,
       "version_minor": 0
      },
      "text/plain": [
       "  0%|          | 0/117 [00:00<?, ?it/s]"
      ]
     },
     "metadata": {},
     "output_type": "display_data"
    },
    {
     "data": {
      "application/vnd.jupyter.widget-view+json": {
       "model_id": "",
       "version_major": 2,
       "version_minor": 0
      },
      "text/plain": [
       "  0%|          | 0/116 [00:00<?, ?it/s]"
      ]
     },
     "metadata": {},
     "output_type": "display_data"
    },
    {
     "data": {
      "application/vnd.jupyter.widget-view+json": {
       "model_id": "",
       "version_major": 2,
       "version_minor": 0
      },
      "text/plain": [
       "  0%|          | 0/115 [00:00<?, ?it/s]"
      ]
     },
     "metadata": {},
     "output_type": "display_data"
    },
    {
     "data": {
      "application/vnd.jupyter.widget-view+json": {
       "model_id": "",
       "version_major": 2,
       "version_minor": 0
      },
      "text/plain": [
       "  0%|          | 0/114 [00:00<?, ?it/s]"
      ]
     },
     "metadata": {},
     "output_type": "display_data"
    },
    {
     "data": {
      "application/vnd.jupyter.widget-view+json": {
       "model_id": "",
       "version_major": 2,
       "version_minor": 0
      },
      "text/plain": [
       "  0%|          | 0/113 [00:00<?, ?it/s]"
      ]
     },
     "metadata": {},
     "output_type": "display_data"
    },
    {
     "data": {
      "application/vnd.jupyter.widget-view+json": {
       "model_id": "",
       "version_major": 2,
       "version_minor": 0
      },
      "text/plain": [
       "  0%|          | 0/112 [00:00<?, ?it/s]"
      ]
     },
     "metadata": {},
     "output_type": "display_data"
    },
    {
     "data": {
      "application/vnd.jupyter.widget-view+json": {
       "model_id": "",
       "version_major": 2,
       "version_minor": 0
      },
      "text/plain": [
       "  0%|          | 0/111 [00:00<?, ?it/s]"
      ]
     },
     "metadata": {},
     "output_type": "display_data"
    },
    {
     "data": {
      "application/vnd.jupyter.widget-view+json": {
       "model_id": "",
       "version_major": 2,
       "version_minor": 0
      },
      "text/plain": [
       "  0%|          | 0/110 [00:00<?, ?it/s]"
      ]
     },
     "metadata": {},
     "output_type": "display_data"
    },
    {
     "data": {
      "application/vnd.jupyter.widget-view+json": {
       "model_id": "",
       "version_major": 2,
       "version_minor": 0
      },
      "text/plain": [
       "  0%|          | 0/109 [00:00<?, ?it/s]"
      ]
     },
     "metadata": {},
     "output_type": "display_data"
    },
    {
     "data": {
      "application/vnd.jupyter.widget-view+json": {
       "model_id": "",
       "version_major": 2,
       "version_minor": 0
      },
      "text/plain": [
       "  0%|          | 0/108 [00:00<?, ?it/s]"
      ]
     },
     "metadata": {},
     "output_type": "display_data"
    },
    {
     "data": {
      "application/vnd.jupyter.widget-view+json": {
       "model_id": "",
       "version_major": 2,
       "version_minor": 0
      },
      "text/plain": [
       "  0%|          | 0/107 [00:00<?, ?it/s]"
      ]
     },
     "metadata": {},
     "output_type": "display_data"
    },
    {
     "data": {
      "application/vnd.jupyter.widget-view+json": {
       "model_id": "",
       "version_major": 2,
       "version_minor": 0
      },
      "text/plain": [
       "  0%|          | 0/106 [00:00<?, ?it/s]"
      ]
     },
     "metadata": {},
     "output_type": "display_data"
    },
    {
     "data": {
      "application/vnd.jupyter.widget-view+json": {
       "model_id": "",
       "version_major": 2,
       "version_minor": 0
      },
      "text/plain": [
       "  0%|          | 0/105 [00:00<?, ?it/s]"
      ]
     },
     "metadata": {},
     "output_type": "display_data"
    },
    {
     "data": {
      "application/vnd.jupyter.widget-view+json": {
       "model_id": "",
       "version_major": 2,
       "version_minor": 0
      },
      "text/plain": [
       "  0%|          | 0/104 [00:00<?, ?it/s]"
      ]
     },
     "metadata": {},
     "output_type": "display_data"
    },
    {
     "data": {
      "application/vnd.jupyter.widget-view+json": {
       "model_id": "",
       "version_major": 2,
       "version_minor": 0
      },
      "text/plain": [
       "  0%|          | 0/103 [00:00<?, ?it/s]"
      ]
     },
     "metadata": {},
     "output_type": "display_data"
    },
    {
     "data": {
      "application/vnd.jupyter.widget-view+json": {
       "model_id": "",
       "version_major": 2,
       "version_minor": 0
      },
      "text/plain": [
       "  0%|          | 0/102 [00:00<?, ?it/s]"
      ]
     },
     "metadata": {},
     "output_type": "display_data"
    },
    {
     "data": {
      "application/vnd.jupyter.widget-view+json": {
       "model_id": "",
       "version_major": 2,
       "version_minor": 0
      },
      "text/plain": [
       "  0%|          | 0/101 [00:00<?, ?it/s]"
      ]
     },
     "metadata": {},
     "output_type": "display_data"
    },
    {
     "data": {
      "application/vnd.jupyter.widget-view+json": {
       "model_id": "",
       "version_major": 2,
       "version_minor": 0
      },
      "text/plain": [
       "  0%|          | 0/100 [00:00<?, ?it/s]"
      ]
     },
     "metadata": {},
     "output_type": "display_data"
    },
    {
     "data": {
      "application/vnd.jupyter.widget-view+json": {
       "model_id": "",
       "version_major": 2,
       "version_minor": 0
      },
      "text/plain": [
       "  0%|          | 0/99 [00:00<?, ?it/s]"
      ]
     },
     "metadata": {},
     "output_type": "display_data"
    },
    {
     "data": {
      "application/vnd.jupyter.widget-view+json": {
       "model_id": "",
       "version_major": 2,
       "version_minor": 0
      },
      "text/plain": [
       "  0%|          | 0/98 [00:00<?, ?it/s]"
      ]
     },
     "metadata": {},
     "output_type": "display_data"
    },
    {
     "data": {
      "application/vnd.jupyter.widget-view+json": {
       "model_id": "",
       "version_major": 2,
       "version_minor": 0
      },
      "text/plain": [
       "  0%|          | 0/97 [00:00<?, ?it/s]"
      ]
     },
     "metadata": {},
     "output_type": "display_data"
    },
    {
     "data": {
      "application/vnd.jupyter.widget-view+json": {
       "model_id": "",
       "version_major": 2,
       "version_minor": 0
      },
      "text/plain": [
       "  0%|          | 0/96 [00:00<?, ?it/s]"
      ]
     },
     "metadata": {},
     "output_type": "display_data"
    },
    {
     "data": {
      "application/vnd.jupyter.widget-view+json": {
       "model_id": "",
       "version_major": 2,
       "version_minor": 0
      },
      "text/plain": [
       "  0%|          | 0/95 [00:00<?, ?it/s]"
      ]
     },
     "metadata": {},
     "output_type": "display_data"
    },
    {
     "data": {
      "application/vnd.jupyter.widget-view+json": {
       "model_id": "",
       "version_major": 2,
       "version_minor": 0
      },
      "text/plain": [
       "  0%|          | 0/94 [00:00<?, ?it/s]"
      ]
     },
     "metadata": {},
     "output_type": "display_data"
    },
    {
     "data": {
      "application/vnd.jupyter.widget-view+json": {
       "model_id": "",
       "version_major": 2,
       "version_minor": 0
      },
      "text/plain": [
       "  0%|          | 0/93 [00:00<?, ?it/s]"
      ]
     },
     "metadata": {},
     "output_type": "display_data"
    },
    {
     "data": {
      "application/vnd.jupyter.widget-view+json": {
       "model_id": "",
       "version_major": 2,
       "version_minor": 0
      },
      "text/plain": [
       "  0%|          | 0/92 [00:00<?, ?it/s]"
      ]
     },
     "metadata": {},
     "output_type": "display_data"
    },
    {
     "data": {
      "application/vnd.jupyter.widget-view+json": {
       "model_id": "",
       "version_major": 2,
       "version_minor": 0
      },
      "text/plain": [
       "  0%|          | 0/154 [00:00<?, ?it/s]"
      ]
     },
     "metadata": {},
     "output_type": "display_data"
    },
    {
     "data": {
      "text/plain": [
       "{'time_used': array([2458471.01662653, 2458471.9971251 , 2458472.95502354,\n",
       "        2458501.85148999, 2458738.14145446, 2458745.12416176,\n",
       "        2458746.13130938, 2458751.13105619, 2458752.12272485,\n",
       "        2458753.125943  , 2458759.1513477 , 2458763.13977478,\n",
       "        2458766.1175354 , 2458769.13445571, 2458771.14359075,\n",
       "        2458772.15598238, 2458773.1299771 , 2458788.12021982,\n",
       "        2458789.12460369, 2458791.10408415, 2458792.14841385,\n",
       "        2458793.13755229, 2458795.11102392, 2458797.06359375,\n",
       "        2458798.15112502, 2458801.10130549, 2458802.07821616,\n",
       "        2458823.03078351, 2458825.1023752 , 2458826.03472024,\n",
       "        2458827.06536466, 2458829.09268654, 2458830.08387635,\n",
       "        2458884.81609441, 2458895.79517331, 2458896.86848942,\n",
       "        2458897.79633738, 2458898.83715015, 2458919.82519007,\n",
       "        2458920.77210018, 2459112.11640603, 2459114.0510637 ,\n",
       "        2459115.11574249, 2459116.10223236, 2459118.08669671,\n",
       "        2459121.01891317, 2459122.1282684 , 2459123.02105593,\n",
       "        2459127.12869177, 2459128.01857717, 2459129.14257723,\n",
       "        2459130.01046249, 2459131.12426996, 2459153.15060097,\n",
       "        2459154.11350405, 2459154.99124958, 2459156.12394548,\n",
       "        2459157.02085102, 2459158.03213316, 2459159.03296564,\n",
       "        2459213.00196723, 2459214.05845434, 2459214.96444532,\n",
       "        2459217.05554153, 2459217.95494818, 2459218.94227564,\n",
       "        2459219.99197767, 2459220.92892233, 2459221.97320303,\n",
       "        2459222.98174479, 2459267.79198265, 2459268.71750838,\n",
       "        2459271.80562135, 2459273.96039983, 2459275.91264183,\n",
       "        2459276.90472555, 2459277.78701282, 2459293.83904254,\n",
       "        2459295.72837366, 2459297.80397973, 2459299.82669336,\n",
       "        2459300.72524039, 2459301.75556025, 2459304.73768971,\n",
       "        2459305.83807506, 2459326.74050164, 2459327.73935212,\n",
       "        2459328.74239541, 2459330.78431468, 2459334.72803381,\n",
       "        2459335.74920712, 2459336.73896935, 2459441.1404624 ,\n",
       "        2459442.13727488, 2459443.1311872 , 2459445.14178428,\n",
       "        2459447.13529048, 2459448.14372199, 2459449.14705836,\n",
       "        2459450.14086458, 2459452.1265604 , 2459453.13143479,\n",
       "        2459473.11016261, 2459475.1094271 , 2459477.12440154,\n",
       "        2459478.11976106, 2459480.11635241, 2459482.12062233,\n",
       "        2459502.12953863, 2459504.13471122, 2459506.13801088,\n",
       "        2459507.13466009, 2459511.11880348, 2459513.12041861,\n",
       "        2459514.10351683, 2459515.11583922, 2459516.14519207,\n",
       "        2459538.07838959, 2459539.08655975, 2459540.08789064,\n",
       "        2459541.08651092, 2459558.05690533, 2459559.09020472,\n",
       "        2459560.08583042, 2459561.09319353, 2459562.05933526,\n",
       "        2459565.04322325, 2459570.06893742, 2459588.01993116,\n",
       "        2459595.02659639, 2459596.05841217, 2459596.98708327,\n",
       "        2459598.05959766, 2459598.99716746, 2459600.01594632,\n",
       "        2459600.99879451, 2459601.96345156, 2459602.98106417,\n",
       "        2459605.02679914, 2459605.93100991, 2459606.93216814,\n",
       "        2459608.98821078, 2459610.01445586, 2459650.72924926,\n",
       "        2459651.72526135, 2459652.71391967, 2459655.73173435,\n",
       "        2459656.74617548, 2459657.72573648, 2459658.73216224,\n",
       "        2459660.72733937, 2459661.76353048, 2459681.71706021,\n",
       "        2459682.7173896 ]),\n",
       " 'rv_wapiti': array([22972.30131014, 22972.54670117, 22974.27758996, 22973.92833741,\n",
       "        22982.47997489, 22979.41728188, 22973.02905598, 22977.81436132,\n",
       "        22973.557386  , 22985.71602845, 22976.63168966, 22979.3658888 ,\n",
       "        22973.41102603, 22975.35110946, 22977.50849678, 22973.08935401,\n",
       "        22973.5560888 , 22975.50229988, 22977.39230941, 22977.49020255,\n",
       "        22980.81389163, 22980.12210444, 22977.25873993, 22975.00662806,\n",
       "        22970.51877997, 22975.16668173, 22973.31227435, 22975.08138307,\n",
       "        22979.65696921, 22972.02028067, 22973.82324908, 22971.41995941,\n",
       "        22973.37349038, 22983.37615958, 22976.75569196, 22979.31021752,\n",
       "        22975.35736289, 22976.91584651, 22977.96598686, 22977.89050938,\n",
       "        22974.96830163, 22971.19034736, 22973.70035521, 22975.79695797,\n",
       "        22976.56845749, 22977.93883228, 22982.64807785, 22978.94909863,\n",
       "        22976.84223729, 22977.95344457, 22974.97111868, 22975.99562116,\n",
       "        22975.28492577, 22977.32694896, 22974.43757005, 22974.87396754,\n",
       "        22975.28801669, 22973.80243208, 22968.2413806 , 22972.78062521,\n",
       "        22976.04033866, 22972.96014881, 22974.22836987, 22978.30262077,\n",
       "        22976.70356929, 22976.91467724, 22981.60641819, 22979.32070105,\n",
       "        22979.05390647, 22978.80686773, 22972.85572921, 22976.63287344,\n",
       "        22977.87239929, 22976.58098814, 22981.56146813, 22980.19652395,\n",
       "        22979.9474862 , 22980.16554247, 22978.16604141, 22979.52753179,\n",
       "        22978.96353673, 22977.17901382, 22981.72997876, 22979.86678417,\n",
       "        22977.79781954, 22978.32339686, 22972.23776123, 22973.8341268 ,\n",
       "        22978.34221693, 22980.79362364, 22983.82509785, 22977.61814393,\n",
       "        22966.3759329 , 22973.07185832, 22977.49438796, 22981.78725423,\n",
       "        22980.32284513, 22979.90841184, 22978.30710562, 22980.96853837,\n",
       "        22977.37612655, 22976.47749044, 22977.28845118, 22984.8354659 ,\n",
       "        22974.14347565, 22979.32892702, 22976.83917947, 22976.96087244,\n",
       "        22973.27737519, 22979.80201044, 22977.36455029, 22983.79882137,\n",
       "        22975.71636783, 22975.73677123, 22975.07774667, 22979.79963704,\n",
       "        22980.96347948, 22976.10418099, 22974.7128329 , 22977.01222394,\n",
       "        22974.03414646, 22979.39013411, 22977.96935768, 22980.17327087,\n",
       "        22977.29382738, 22981.74290488, 22979.94972407, 22975.04150444,\n",
       "        22974.79214147, 22974.95815724, 22975.9689551 , 22971.34393552,\n",
       "        22969.96029553, 22972.4116962 , 22978.34744727, 22977.94015498,\n",
       "        22975.25040078, 22980.81671468, 22981.23988824, 22982.56124283,\n",
       "        22982.56633788, 22980.74375428, 22981.84160891, 22973.97748536,\n",
       "        22974.48352943, 22977.88361922, 22971.12819275, 22973.40277867,\n",
       "        22975.35467744, 22971.12498463, 22980.33715995, 22979.68735012,\n",
       "        22977.09609082, 22979.2250508 ]),\n",
       " 'std_rv_wapiti': array([1.36452564, 1.25811354, 1.30391914, 1.60445947, 1.52971497,\n",
       "        2.18726228, 2.10806599, 1.87233224, 2.11994529, 1.98491469,\n",
       "        1.85744212, 1.92032289, 1.91517963, 1.52755565, 2.10461112,\n",
       "        2.06157629, 2.24850291, 1.94007648, 1.82166107, 1.92947901,\n",
       "        1.84856769, 2.19564594, 1.96393196, 1.82099914, 2.15236515,\n",
       "        1.95874009, 2.00734371, 1.49532875, 2.22780977, 2.03546225,\n",
       "        2.06848094, 1.9928758 , 2.06149521, 1.82301433, 1.80012625,\n",
       "        1.31524964, 1.76389678, 1.91519664, 1.91674749, 1.71001875,\n",
       "        1.87259361, 2.17705515, 1.73301521, 1.70590811, 1.8084948 ,\n",
       "        1.73352153, 1.68950978, 1.94484601, 1.71871292, 1.7385756 ,\n",
       "        1.74172403, 1.78179074, 1.79186447, 1.64568283, 1.60859436,\n",
       "        1.72551044, 1.70235033, 1.78502508, 1.80844991, 1.66222476,\n",
       "        1.8632721 , 1.7767547 , 1.76608626, 1.67047931, 1.61675805,\n",
       "        1.64323615, 1.65069409, 1.55477117, 1.58968177, 1.61516183,\n",
       "        1.77336076, 1.56334831, 1.86604603, 1.91153218, 1.66718806,\n",
       "        1.52903013, 1.51789146, 1.69369749, 1.61508811, 1.61205449,\n",
       "        1.602081  , 1.5345209 , 1.78048976, 1.44814614, 1.77195153,\n",
       "        1.68532453, 1.86071791, 1.71680428, 1.57403728, 1.88254268,\n",
       "        1.65711308, 1.68768244, 1.84294426, 1.6707095 , 1.60750281,\n",
       "        1.62696076, 1.76620932, 1.93708388, 1.7015979 , 1.68187876,\n",
       "        1.68191484, 1.7430989 , 1.64674533, 1.90170029, 1.81056707,\n",
       "        1.6138215 , 1.73144246, 1.72243575, 1.87134406, 2.4571538 ,\n",
       "        1.59216402, 1.72526919, 1.74220261, 1.54545596, 1.62084641,\n",
       "        1.7128273 , 1.66269282, 1.65860718, 1.74249264, 1.61804027,\n",
       "        1.68153705, 1.68782108, 1.98004484, 1.68665904, 1.68737583,\n",
       "        1.7142773 , 1.82192348, 1.81939472, 1.5387828 , 1.60640671,\n",
       "        1.66060441, 1.65241263, 1.60944731, 1.61197629, 1.66975506,\n",
       "        1.6549298 , 1.68567665, 1.62631473, 1.59810387, 1.4940173 ,\n",
       "        1.82432609, 1.72485204, 1.57533704, 1.80148465, 1.7378928 ,\n",
       "        1.93618724, 1.77943823, 1.48235013, 1.6399103 , 1.65463692,\n",
       "        1.7591007 , 1.8362472 , 1.76277692, 1.63403751]),\n",
       " 'p_val': array([0.  , 0.  , 0.  , 0.  , 0.  , 0.  , 0.  , 0.  , 0.  , 0.  , 0.  ,\n",
       "        0.  , 0.  , 0.  , 0.  , 0.  , 0.  , 0.  , 0.  , 0.  , 0.  , 0.  ,\n",
       "        0.  , 0.  , 0.  , 0.  , 0.  , 0.  , 0.12, 0.48, 1.  , 1.  , 1.  ,\n",
       "        1.  , 1.  , 1.  , 1.  , 1.  , 1.  , 1.  , 1.  , 1.  , 1.  , 1.  ,\n",
       "        1.  , 1.  , 1.  , 1.  , 1.  , 1.  , 1.  , 1.  , 1.  , 1.  , 1.  ,\n",
       "        1.  , 1.  , 1.  , 1.  , 1.  , 1.  , 1.  , 1.  , 1.  , 1.  , 1.  ,\n",
       "        1.  , 1.  , 1.  , 1.  , 1.  , 1.  , 1.  , 1.  , 1.  , 1.  , 1.  ,\n",
       "        1.  , 1.  , 1.  , 1.  , 1.  , 1.  , 1.  , 1.  , 1.  , 1.  , 1.  ,\n",
       "        1.  , 1.  , 1.  , 1.  , 1.  , 1.  , 1.  , 1.  , 1.  , 1.  , 1.  ,\n",
       "        1.  , 1.  , 1.  , 1.  , 1.  , 1.  , 1.  , 1.  , 1.  , 1.  , 1.  ,\n",
       "        1.  , 1.  , 1.  , 1.  , 1.  , 1.  , 1.  , 1.  , 1.  , 1.  , 1.  ,\n",
       "        1.  , 1.  , 1.  , 1.  , 1.  , 1.  , 1.  , 1.  , 1.  , 1.  , 1.  ,\n",
       "        1.  , 1.  , 1.  , 1.  , 1.  , 1.  , 1.  , 1.  , 1.  , 1.  , 1.  ,\n",
       "        1.  , 1.  , 1.  , 1.  , 1.  , 1.  , 1.  , 1.  , 1.  , 1.  , 1.  ,\n",
       "        1.  , 1.  , 1.  , 1.  , 1.  , 1.  , 1.  , 1.  , 1.  , 1.  , 1.  ,\n",
       "        1.  , 1.  , 1.  , 1.  , 1.  , 1.  , 1.  , 1.  , 1.  , 1.  , 1.  ,\n",
       "        1.  ]),\n",
       " 'pearson': array([0.99902411, 0.99834741, 0.99392916, 0.98247805, 0.98069238,\n",
       "        0.98717659, 0.99099342, 0.97785823, 0.97540281, 0.98004044,\n",
       "        0.97866773, 0.97524993, 0.97440545, 0.9703364 , 0.81345878,\n",
       "        0.80870324, 0.94308033, 0.93809066, 0.90264633, 0.80794288,\n",
       "        0.77250523, 0.83117879, 0.87472073, 0.83569358, 0.85474026,\n",
       "        0.89445045, 0.88864779, 0.90405665]),\n",
       " 'n_components': 14,\n",
       " 'D': array([ 1.4885447 ,  1.68925157,  2.00419228,  2.003042  ,  6.1337839 ,\n",
       "         8.02651976,  7.46585998,  3.91412016,  6.3049877 ,  7.63817715,\n",
       "         6.59223253,  6.08279335,  8.60318063,  9.08256347,  8.49406   ,\n",
       "         5.26835633,  5.64280986,  5.48211667,  5.29747467,  5.62582018,\n",
       "         5.64919858,  6.95657529,  6.99838456,  7.09349846,  6.70078789,\n",
       "         4.72641401,  5.39363083,  5.95707318,  7.87930679,  7.97226888,\n",
       "         8.60664315,  9.65723701,  7.33895976,  6.83293491, 11.46638261,\n",
       "        15.4542665 , 12.91205508,  7.66483687, 23.34555393,  2.98229024,\n",
       "         3.9235751 ,  3.97225704,  6.49995317,  2.35552574,  2.2146539 ,\n",
       "        27.64105552,  3.96602368,  6.27420955,  3.93844999,  4.37737873,\n",
       "         4.06777432,  3.84923756,  2.78888934,  6.07771445,  3.56536834,\n",
       "         5.46547313,  5.65671053,  7.12565494,  5.8795804 ,  4.17343085,\n",
       "         3.57270209,  3.98394793,  4.17326653,  3.74981881,  4.29673533,\n",
       "         3.09791878,  9.913853  , 11.40825011,  9.79937412, 11.87490998,\n",
       "         7.81400974,  4.88740529,  5.40983933, 17.52089653,  4.20132801,\n",
       "         2.08102643,  2.11493406,  4.44629395,  4.65484706,  5.69683638,\n",
       "         7.04109456, 10.56714265,  5.92165737,  4.64613177,  6.08415404,\n",
       "         4.97383991,  4.28167048,  2.29589925,  3.03509923,  2.90962484,\n",
       "         2.62025235,  1.38732716,  2.24401548,  2.03123097,  3.17048516,\n",
       "         2.91298028,  3.26509784,  2.84931319,  2.84511209,  3.06599571,\n",
       "         2.93899005,  2.80384088,  2.19928462,  3.14447662,  3.84841939,\n",
       "         3.76420441,  3.90182352,  4.54233478,  4.86445391,  3.9934867 ,\n",
       "         3.351595  ,  3.76543352,  2.96281835,  2.38773307,  3.14006611,\n",
       "         4.20825764,  3.85861292,  3.13906327,  2.74764266,  9.77657243,\n",
       "         5.84872232,  3.53701978,  9.64266453,  3.69033806,  4.59232976,\n",
       "        29.06148776, 17.45518816, 20.44815687,  5.76405203,  2.60474229,\n",
       "         3.2997513 ,  3.15006902,  3.56970479,  3.90309052,  4.48884258,\n",
       "         3.60383326,  3.43739751,  3.86932159,  5.1405995 ,  5.49905775,\n",
       "         4.5282607 ,  4.24775358,  4.17721533,  8.11050468,  6.05062463,\n",
       "        13.21024772, 14.05277329, 12.28956152, 11.78029677, 10.24454733,\n",
       "         8.99701411,  8.44270043,  8.48037042,  6.98303593,  6.02268234,\n",
       "         5.27463612,  3.50567637,  5.19427769,  5.40097307,  5.27762198,\n",
       "         7.50731899,  5.92524326,  8.12267021,  8.05988053,  2.78092034,\n",
       "         2.84197358,  5.11145402, 11.04832812, 12.75898175,  4.21597439,\n",
       "         3.59124807,  4.05404716,  4.01465336,  4.3549353 ,  3.20684225,\n",
       "         3.99420866,  2.97131074]),\n",
       " 'faps': array([1.97535219e-05, 1.01160063e-04, 3.62507154e-05, 8.79289114e-05,\n",
       "        1.55284874e-04, 4.84346540e-04, 2.96917721e-05, 3.58751561e-05,\n",
       "        2.55069302e-05, 4.62794091e-05, 1.64686426e-06, 3.74461079e-06,\n",
       "        1.67186297e-06, 1.85979299e-06, 3.23694151e-06, 2.02100623e-07,\n",
       "        4.18782414e-07, 3.47466039e-07, 1.37460356e-07, 4.01682533e-08,\n",
       "        2.80799563e-08, 1.92055054e-08, 5.09232558e-11, 6.81108312e-09,\n",
       "        9.67802251e-09, 8.64835413e-09, 1.94464720e-08, 7.21064934e-09,\n",
       "        1.18663419e-08, 3.31900972e-08, 4.41270203e-08, 4.48932909e-08,\n",
       "        6.33251400e-08, 2.48529521e-08, 3.67661291e-08, 4.96491423e-08,\n",
       "        7.39516644e-07, 2.70625362e-06, 4.90610206e-07, 1.59423378e-07,\n",
       "        7.33891830e-07, 8.40542265e-07, 8.87762269e-07, 7.98726316e-07,\n",
       "        1.03100017e-06, 4.49239963e-07, 3.35374926e-07, 8.01478827e-07,\n",
       "        8.56393951e-07, 5.21810346e-06, 3.91111957e-06, 4.31247946e-06,\n",
       "        3.63872461e-06, 3.37269899e-06, 1.88065693e-05, 1.08082337e-04,\n",
       "        1.82727940e-04, 9.24904177e-05, 1.36892442e-04, 1.39310224e-04,\n",
       "        3.36577302e-04, 2.19685234e-05, 5.80431689e-05, 6.14136852e-05,\n",
       "        1.17631231e-04, 1.05438831e-04, 1.29502903e-04, 1.40550167e-04,\n",
       "        2.34858102e-04, 6.96140418e-04, 1.17238224e-03, 1.50999673e-03,\n",
       "        1.36670284e-03, 2.27362754e-02, 2.23194581e-02, 4.33365028e-02,\n",
       "        6.40565309e-02, 3.41834980e-02, 9.61977592e-03, 2.69994143e-02,\n",
       "        1.58892497e-02, 1.67395338e-02, 1.76761866e-02, 1.57177328e-02,\n",
       "        2.42407229e-02])}"
      ]
     },
     "execution_count": 9,
     "metadata": {},
     "output_type": "execute_result"
    }
   ],
   "source": [
    "results_wapiti = wapitify.wapitify(time_binned, rvs_binned, drvs_binned)\n",
    "results_wapiti"
   ]
  },
  {
   "cell_type": "markdown",
   "id": "cabf4f7a",
   "metadata": {},
   "source": [
    "Although not advisable, it is also feasible to bypass the selection process for determining a reliable number of components by imposing a predetermined value chosen by the user."
   ]
  },
  {
   "cell_type": "code",
   "execution_count": 10,
   "id": "1bc787a3",
   "metadata": {},
   "outputs": [
    {
     "data": {
      "application/vnd.jupyter.widget-view+json": {
       "model_id": "",
       "version_major": 2,
       "version_minor": 0
      },
      "text/plain": [
       "  0%|          | 0/177 [00:00<?, ?it/s]"
      ]
     },
     "metadata": {},
     "output_type": "display_data"
    },
    {
     "data": {
      "text/plain": [
       "{'time': array([2458471.01662653, 2458471.9971251 , 2458472.95502354,\n",
       "        2458501.85148999, 2458738.14145446, 2458745.12416176,\n",
       "        2458746.13130938, 2458751.13105619, 2458752.12272485,\n",
       "        2458753.125943  , 2458759.1513477 , 2458763.13977478,\n",
       "        2458766.1175354 , 2458769.13445571, 2458771.14359075,\n",
       "        2458772.15598238, 2458773.1299771 , 2458788.12021982,\n",
       "        2458789.12460369, 2458791.10408415, 2458792.14841385,\n",
       "        2458793.13755229, 2458795.11102392, 2458797.06359375,\n",
       "        2458798.15112502, 2458801.10130549, 2458802.07821616,\n",
       "        2458823.03078351, 2458825.1023752 , 2458826.03472024,\n",
       "        2458827.06536466, 2458827.98740382, 2458829.09268654,\n",
       "        2458830.08387635, 2458874.96007405, 2458875.96839383,\n",
       "        2458876.97583548, 2458884.81609441, 2458885.93584124,\n",
       "        2458895.79517331, 2458896.86848942, 2458897.79633738,\n",
       "        2458898.83715015, 2458919.82519007, 2458920.77210018,\n",
       "        2458922.7585227 , 2459112.11640603, 2459114.0510637 ,\n",
       "        2459115.11574249, 2459116.10223236, 2459118.08669671,\n",
       "        2459121.01891317, 2459122.1282684 , 2459123.02105593,\n",
       "        2459127.12869177, 2459128.01857717, 2459129.14257723,\n",
       "        2459130.01046249, 2459131.12426996, 2459153.15060097,\n",
       "        2459154.11350405, 2459154.99124958, 2459156.12394548,\n",
       "        2459157.02085102, 2459158.03213316, 2459159.03296564,\n",
       "        2459207.98985427, 2459209.00242124, 2459209.98221647,\n",
       "        2459212.00088967, 2459213.00196723, 2459214.05845434,\n",
       "        2459214.96444532, 2459216.02466939, 2459217.05554153,\n",
       "        2459217.95494818, 2459218.94227564, 2459219.99197767,\n",
       "        2459220.92892233, 2459221.97320303, 2459222.98174479,\n",
       "        2459265.83343539, 2459267.79198265, 2459268.71750838,\n",
       "        2459271.80562135, 2459273.96039983, 2459275.91264183,\n",
       "        2459276.90472555, 2459277.78701282, 2459293.83904254,\n",
       "        2459295.72837366, 2459297.80397973, 2459299.82669336,\n",
       "        2459300.72524039, 2459301.75556025, 2459304.73768971,\n",
       "        2459305.83807506, 2459326.74050164, 2459327.73935212,\n",
       "        2459328.74239541, 2459330.78431468, 2459334.72803381,\n",
       "        2459335.74920712, 2459336.73896935, 2459441.1404624 ,\n",
       "        2459442.13727488, 2459443.1311872 , 2459445.14178428,\n",
       "        2459447.13529048, 2459448.14372199, 2459449.14705836,\n",
       "        2459450.14086458, 2459452.1265604 , 2459453.13143479,\n",
       "        2459473.11016261, 2459475.1094271 , 2459477.12440154,\n",
       "        2459478.11976106, 2459480.11635241, 2459481.12784157,\n",
       "        2459482.12062233, 2459502.12953863, 2459504.13471122,\n",
       "        2459506.13801088, 2459507.13466009, 2459508.12453568,\n",
       "        2459509.13828033, 2459510.12196219, 2459511.11880348,\n",
       "        2459513.12041861, 2459514.10351683, 2459515.11583922,\n",
       "        2459516.14519207, 2459538.07838959, 2459539.08655975,\n",
       "        2459540.08789064, 2459541.08651092, 2459558.05690533,\n",
       "        2459559.09020472, 2459560.08583042, 2459561.09319353,\n",
       "        2459562.05933526, 2459565.04322325, 2459570.06893742,\n",
       "        2459588.01993116, 2459589.01582847, 2459590.03217345,\n",
       "        2459591.03632607, 2459592.02241322, 2459593.03243348,\n",
       "        2459595.02659639, 2459596.05841217, 2459596.98708327,\n",
       "        2459598.05959766, 2459598.99716746, 2459600.01594632,\n",
       "        2459600.99879451, 2459601.96345156, 2459602.98106417,\n",
       "        2459605.02679914, 2459605.93100991, 2459606.93216814,\n",
       "        2459608.98821078, 2459610.01445586, 2459650.72924926,\n",
       "        2459651.72526135, 2459652.71391967, 2459653.71303749,\n",
       "        2459654.71439253, 2459655.73173435, 2459656.74617548,\n",
       "        2459657.72573648, 2459658.73216224, 2459660.72733937,\n",
       "        2459661.76353048, 2459681.71706021, 2459682.7173896 ]),\n",
       " 'rv_wapiti': array([22973.38115987, 22974.13626289, 22977.02214527, 22975.8611472 ,\n",
       "        22980.87505045, 22983.61049037, 22976.32926908, 22979.09246734,\n",
       "        22976.5386821 , 22983.20647418, 22972.48711778, 22978.26300997,\n",
       "        22969.84827333, 22969.5624197 , 22971.42167019, 22971.01550702,\n",
       "        22972.1777503 , 22965.81594173, 22968.97033985, 22970.39244864,\n",
       "        22972.5112955 , 22966.71580474, 22971.87349935, 22971.07956258,\n",
       "        22971.92408307, 22978.20121008, 22976.80940478, 22967.70405849,\n",
       "        22968.1226986 , 22965.9593456 , 22964.01661415, 22964.63041972,\n",
       "        22966.30680465, 22966.3094823 , 22978.3395126 , 22978.92738456,\n",
       "        22984.87037831, 22983.0839069 , 22974.85825651, 22979.11835282,\n",
       "        22982.79636934, 22979.45892522, 22982.89727471, 22975.5578852 ,\n",
       "        22975.42538968, 22979.10138557, 22976.58489234, 22971.20715822,\n",
       "        22975.25515412, 22974.36297127, 22977.4744293 , 22977.58183072,\n",
       "        22981.11582456, 22977.77476638, 22974.82743266, 22978.74213193,\n",
       "        22978.41937606, 22978.7792174 , 22979.06386827, 22975.05074297,\n",
       "        22972.42851115, 22973.27015667, 22973.4983595 , 22969.68164891,\n",
       "        22967.1940407 , 22971.90071837, 22978.02408067, 22974.03189048,\n",
       "        22976.37938325, 22977.29922675, 22979.23437234, 22975.48464866,\n",
       "        22975.36841696, 22972.08212896, 22977.40686748, 22977.27411026,\n",
       "        22976.32071539, 22981.60283404, 22978.8837907 , 22979.06140965,\n",
       "        22979.33709324, 22976.94426232, 22974.26327445, 22976.5336277 ,\n",
       "        22975.178471  , 22975.69412512, 22978.44876584, 22976.98588625,\n",
       "        22978.04263619, 22980.70447931, 22979.24773855, 22979.49483157,\n",
       "        22980.53662844, 22977.35127056, 22983.46664294, 22981.19868482,\n",
       "        22977.83562692, 22978.31268801, 22972.8003995 , 22972.96382533,\n",
       "        22975.8493997 , 22977.06815371, 22980.48447222, 22973.73223739,\n",
       "        22975.83754214, 22978.68278227, 22978.771415  , 22982.66817855,\n",
       "        22981.21238735, 22982.39282543, 22981.92004157, 22984.39820279,\n",
       "        22978.64347095, 22976.08287105, 22980.24589832, 22985.33536314,\n",
       "        22975.18594101, 22982.35488399, 22975.43779921, 22977.06394332,\n",
       "        22977.78749673, 22974.97807754, 22976.79875585, 22978.4242609 ,\n",
       "        22985.46489057, 22981.33273052, 22969.53746252, 22965.92418398,\n",
       "        22978.95492787, 22978.45679382, 22977.857125  , 22981.2794655 ,\n",
       "        22977.81869558, 22978.44841591, 22975.90105969, 22979.68827035,\n",
       "        22978.3458793 , 22976.99228713, 22973.06935815, 22973.66747828,\n",
       "        22973.74409798, 22976.41218514, 22976.678142  , 22976.45532674,\n",
       "        22975.62295779, 22977.00526555, 22975.78348074, 22977.00648339,\n",
       "        22978.22556932, 22978.35423674, 22978.59331843, 22980.67220861,\n",
       "        22976.55708887, 22974.33432079, 22975.55745665, 22980.44869438,\n",
       "        22979.51351951, 22976.90279972, 22981.11983326, 22980.71378812,\n",
       "        22979.51600275, 22981.40031807, 22980.76023193, 22981.06036489,\n",
       "        22972.81727166, 22974.206567  , 22977.6351432 , 22972.62204147,\n",
       "        22969.79443348, 22971.53405962, 22973.62959403, 22976.06744031,\n",
       "        22971.57134537, 22981.55642156, 22981.34277824, 22978.301716  ,\n",
       "        22979.70186004]),\n",
       " 'std_rv_wapiti': array([1.36544593, 1.25879318, 1.30763827, 1.60732899, 1.53835828,\n",
       "        2.19852337, 2.1187538 , 1.87693939, 2.12238622, 1.98689617,\n",
       "        1.86189705, 1.92723065, 1.91914996, 1.54196239, 2.11074738,\n",
       "        2.06624202, 2.25414413, 1.95602254, 1.83035332, 1.94643599,\n",
       "        1.86090743, 2.20901215, 1.97284277, 1.8336785 , 2.16061804,\n",
       "        1.97077037, 2.01743572, 1.53202787, 2.23582918, 2.05327096,\n",
       "        2.08000522, 2.2473585 , 2.00699192, 2.0811605 , 1.9884011 ,\n",
       "        2.06045174, 1.62730217, 1.82430386, 2.5539244 , 1.8060435 ,\n",
       "        1.33086482, 1.77414204, 1.92981062, 1.91930678, 1.71023051,\n",
       "        2.76183518, 1.87638867, 2.1886181 , 1.73752077, 1.70998296,\n",
       "        1.81111274, 1.7405884 , 1.69210584, 1.95098986, 1.72220303,\n",
       "        1.74330543, 1.74561016, 1.78934432, 1.79444595, 1.65548486,\n",
       "        1.62143212, 1.74025602, 1.71073326, 1.79943443, 1.82177277,\n",
       "        1.67450587, 1.86827519, 1.92684412, 1.83811179, 2.09088692,\n",
       "        1.86983903, 1.78182097, 1.771538  , 2.94027772, 1.67783044,\n",
       "        1.61965879, 1.64659953, 1.65632718, 1.56058786, 1.59245186,\n",
       "        1.61971977, 2.04563092, 1.78372499, 1.57187118, 1.87123204,\n",
       "        1.91723507, 1.66958776, 1.5300611 , 1.51875487, 1.69513844,\n",
       "        1.61489749, 1.61486812, 1.60606029, 1.53654041, 1.78194813,\n",
       "        1.45058076, 1.77591672, 1.68653091, 1.86259563, 1.71827583,\n",
       "        1.57455522, 1.89184629, 1.66299268, 1.69202448, 1.85732596,\n",
       "        1.68481419, 1.62158993, 1.64469508, 1.78785645, 1.95112557,\n",
       "        1.71644328, 1.69633903, 1.69043758, 1.75010489, 1.64917554,\n",
       "        1.90319327, 1.81896842, 1.61541127, 1.73629084, 1.62809074,\n",
       "        1.72426074, 1.87519006, 2.46274128, 1.59622114, 1.72641075,\n",
       "        2.45725508, 2.29395656, 2.42136631, 1.74784087, 1.54909433,\n",
       "        1.6247382 , 1.71993884, 1.66961236, 1.67395542, 1.76165784,\n",
       "        1.62882411, 1.69293861, 1.69417538, 1.98969119, 1.69602186,\n",
       "        1.6979114 , 1.72314524, 1.8263115 , 1.82358676, 1.54155864,\n",
       "        1.80119586, 1.92739618, 1.73078916, 1.65994725, 1.58839242,\n",
       "        1.61189885, 1.66826734, 1.66360962, 1.62022116, 1.62246793,\n",
       "        1.68186312, 1.66008978, 1.69296377, 1.63416744, 1.60451105,\n",
       "        1.50081819, 1.82870576, 1.7257137 , 1.57696482, 1.80204643,\n",
       "        1.73892393, 1.93755167, 2.65106925, 2.2735793 , 1.78052529,\n",
       "        1.48439529, 1.64143856, 1.65597766, 1.75943157, 1.83756445,\n",
       "        1.764926  , 1.63528713]),\n",
       " 'n_components': 2}"
      ]
     },
     "execution_count": 10,
     "metadata": {},
     "output_type": "execute_result"
    }
   ],
   "source": [
    "results_wapiti = wapitify.wapitify(time_binned, rvs_binned, drvs_binned, n_components=2)\n",
    "results_wapiti"
   ]
  }
 ],
 "metadata": {
  "kernelspec": {
   "display_name": "Python 3 (ipykernel)",
   "language": "python",
   "name": "python3"
  },
  "language_info": {
   "codemirror_mode": {
    "name": "ipython",
    "version": 3
   },
   "file_extension": ".py",
   "mimetype": "text/x-python",
   "name": "python",
   "nbconvert_exporter": "python",
   "pygments_lexer": "ipython3",
   "version": "3.10.6"
  }
 },
 "nbformat": 4,
 "nbformat_minor": 5
}
